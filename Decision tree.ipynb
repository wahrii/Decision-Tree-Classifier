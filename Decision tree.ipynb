{
 "cells": [
  {
   "cell_type": "code",
   "execution_count": 1,
   "id": "f3326cf9",
   "metadata": {},
   "outputs": [],
   "source": [
    "import pandas as pd\n",
    "import numpy as np\n",
    "import matplotlib.pyplot as plt\n",
    "import seaborn as sns\n",
    "%matplotlib inline\n",
    "\n",
    "\n",
    "\n",
    "import warnings\n",
    "warnings.filterwarnings('ignore')"
   ]
  },
  {
   "cell_type": "code",
   "execution_count": 2,
   "id": "a8e1ada8",
   "metadata": {},
   "outputs": [],
   "source": [
    "dataset = pd.read_csv(r'C:\\Users\\Wahri\\OneDrive\\Documents\\Wahri Irawan\\ML A-Z HandsOn Python & R in DS\\Part 3 - Classification\\Section 19 - Decision Tree Classification\\Social_Network_Ads.csv')"
   ]
  },
  {
   "cell_type": "code",
   "execution_count": 3,
   "id": "f5db2581",
   "metadata": {},
   "outputs": [
    {
     "data": {
      "text/html": [
       "<div>\n",
       "<style scoped>\n",
       "    .dataframe tbody tr th:only-of-type {\n",
       "        vertical-align: middle;\n",
       "    }\n",
       "\n",
       "    .dataframe tbody tr th {\n",
       "        vertical-align: top;\n",
       "    }\n",
       "\n",
       "    .dataframe thead th {\n",
       "        text-align: right;\n",
       "    }\n",
       "</style>\n",
       "<table border=\"1\" class=\"dataframe\">\n",
       "  <thead>\n",
       "    <tr style=\"text-align: right;\">\n",
       "      <th></th>\n",
       "      <th>User ID</th>\n",
       "      <th>Gender</th>\n",
       "      <th>Age</th>\n",
       "      <th>EstimatedSalary</th>\n",
       "      <th>Purchased</th>\n",
       "    </tr>\n",
       "  </thead>\n",
       "  <tbody>\n",
       "    <tr>\n",
       "      <th>0</th>\n",
       "      <td>15624510</td>\n",
       "      <td>Male</td>\n",
       "      <td>19</td>\n",
       "      <td>19000</td>\n",
       "      <td>0</td>\n",
       "    </tr>\n",
       "    <tr>\n",
       "      <th>1</th>\n",
       "      <td>15810944</td>\n",
       "      <td>Male</td>\n",
       "      <td>35</td>\n",
       "      <td>20000</td>\n",
       "      <td>0</td>\n",
       "    </tr>\n",
       "    <tr>\n",
       "      <th>2</th>\n",
       "      <td>15668575</td>\n",
       "      <td>Female</td>\n",
       "      <td>26</td>\n",
       "      <td>43000</td>\n",
       "      <td>0</td>\n",
       "    </tr>\n",
       "    <tr>\n",
       "      <th>3</th>\n",
       "      <td>15603246</td>\n",
       "      <td>Female</td>\n",
       "      <td>27</td>\n",
       "      <td>57000</td>\n",
       "      <td>0</td>\n",
       "    </tr>\n",
       "    <tr>\n",
       "      <th>4</th>\n",
       "      <td>15804002</td>\n",
       "      <td>Male</td>\n",
       "      <td>19</td>\n",
       "      <td>76000</td>\n",
       "      <td>0</td>\n",
       "    </tr>\n",
       "  </tbody>\n",
       "</table>\n",
       "</div>"
      ],
      "text/plain": [
       "    User ID  Gender  Age  EstimatedSalary  Purchased\n",
       "0  15624510    Male   19            19000          0\n",
       "1  15810944    Male   35            20000          0\n",
       "2  15668575  Female   26            43000          0\n",
       "3  15603246  Female   27            57000          0\n",
       "4  15804002    Male   19            76000          0"
      ]
     },
     "execution_count": 3,
     "metadata": {},
     "output_type": "execute_result"
    }
   ],
   "source": [
    "dataset.head()"
   ]
  },
  {
   "cell_type": "markdown",
   "id": "ab888d6d",
   "metadata": {},
   "source": [
    "Menentukan Feature dan Target"
   ]
  },
  {
   "cell_type": "code",
   "execution_count": 4,
   "id": "06bb1cca",
   "metadata": {},
   "outputs": [],
   "source": [
    "X = dataset.iloc[:, [2, 3]].values\n",
    "y = dataset.iloc[:, 4].values"
   ]
  },
  {
   "cell_type": "markdown",
   "id": "9f83f22a",
   "metadata": {},
   "source": [
    "Membagi data training dan testing"
   ]
  },
  {
   "cell_type": "code",
   "execution_count": 5,
   "id": "c223b785",
   "metadata": {},
   "outputs": [],
   "source": [
    "from sklearn.model_selection import train_test_split\n",
    "X_train, X_test, y_train, y_test = train_test_split(X, y, test_size = 0.25, random_state = 0)"
   ]
  },
  {
   "cell_type": "code",
   "execution_count": 6,
   "id": "44fc039e",
   "metadata": {},
   "outputs": [
    {
     "data": {
      "text/plain": [
       "array([[    44,  39000],\n",
       "       [    32, 120000],\n",
       "       [    38,  50000],\n",
       "       [    32, 135000],\n",
       "       [    52,  21000],\n",
       "       [    53, 104000],\n",
       "       [    39,  42000],\n",
       "       [    38,  61000],\n",
       "       [    36,  50000],\n",
       "       [    36,  63000],\n",
       "       [    35,  25000],\n",
       "       [    35,  50000],\n",
       "       [    42,  73000],\n",
       "       [    47,  49000],\n",
       "       [    59,  29000],\n",
       "       [    49,  65000],\n",
       "       [    45, 131000],\n",
       "       [    31,  89000],\n",
       "       [    46,  82000],\n",
       "       [    47,  51000],\n",
       "       [    26,  15000],\n",
       "       [    60, 102000],\n",
       "       [    38, 112000],\n",
       "       [    40, 107000],\n",
       "       [    42,  53000],\n",
       "       [    35,  59000],\n",
       "       [    48,  41000],\n",
       "       [    48, 134000],\n",
       "       [    38, 113000],\n",
       "       [    29, 148000],\n",
       "       [    26,  15000],\n",
       "       [    60,  42000],\n",
       "       [    24,  19000],\n",
       "       [    42, 149000],\n",
       "       [    46,  96000],\n",
       "       [    28,  59000],\n",
       "       [    39,  96000],\n",
       "       [    28,  89000],\n",
       "       [    41,  72000],\n",
       "       [    45,  26000],\n",
       "       [    33,  69000],\n",
       "       [    20,  82000],\n",
       "       [    31,  74000],\n",
       "       [    42,  80000],\n",
       "       [    35,  72000],\n",
       "       [    33, 149000],\n",
       "       [    40,  71000],\n",
       "       [    51, 146000],\n",
       "       [    46,  79000],\n",
       "       [    35,  75000],\n",
       "       [    38,  51000],\n",
       "       [    36,  75000],\n",
       "       [    37,  78000],\n",
       "       [    38,  61000],\n",
       "       [    60, 108000],\n",
       "       [    20,  82000],\n",
       "       [    57,  74000],\n",
       "       [    42,  65000],\n",
       "       [    26,  80000],\n",
       "       [    46, 117000],\n",
       "       [    35,  61000],\n",
       "       [    21,  68000],\n",
       "       [    28,  44000],\n",
       "       [    41,  87000],\n",
       "       [    37,  33000],\n",
       "       [    27,  90000],\n",
       "       [    39,  42000],\n",
       "       [    28, 123000],\n",
       "       [    31, 118000],\n",
       "       [    25,  87000],\n",
       "       [    35,  71000],\n",
       "       [    37,  70000],\n",
       "       [    35,  39000],\n",
       "       [    47,  23000],\n",
       "       [    35, 147000],\n",
       "       [    48, 138000],\n",
       "       [    26,  86000],\n",
       "       [    25,  79000],\n",
       "       [    52, 138000],\n",
       "       [    51,  23000],\n",
       "       [    35,  60000],\n",
       "       [    33, 113000],\n",
       "       [    30, 107000],\n",
       "       [    48,  33000],\n",
       "       [    41,  80000],\n",
       "       [    48,  96000],\n",
       "       [    31,  18000],\n",
       "       [    31,  71000],\n",
       "       [    43, 129000],\n",
       "       [    59,  76000],\n",
       "       [    18,  44000],\n",
       "       [    36, 118000],\n",
       "       [    42,  90000],\n",
       "       [    47,  30000],\n",
       "       [    26,  43000],\n",
       "       [    40,  78000],\n",
       "       [    46,  59000],\n",
       "       [    59,  42000],\n",
       "       [    46,  74000],\n",
       "       [    35,  91000],\n",
       "       [    28,  59000],\n",
       "       [    40,  57000],\n",
       "       [    59, 143000],\n",
       "       [    57,  26000],\n",
       "       [    52,  38000],\n",
       "       [    47, 113000],\n",
       "       [    53, 143000],\n",
       "       [    35,  27000],\n",
       "       [    58, 101000],\n",
       "       [    45,  45000],\n",
       "       [    23,  82000],\n",
       "       [    46,  23000],\n",
       "       [    42,  65000],\n",
       "       [    28,  84000],\n",
       "       [    38,  59000],\n",
       "       [    26,  84000],\n",
       "       [    29,  28000],\n",
       "       [    37,  71000],\n",
       "       [    22,  55000],\n",
       "       [    48,  35000],\n",
       "       [    49,  28000],\n",
       "       [    38,  65000],\n",
       "       [    27,  17000],\n",
       "       [    46,  28000],\n",
       "       [    48, 141000],\n",
       "       [    26,  17000],\n",
       "       [    35,  97000],\n",
       "       [    39,  59000],\n",
       "       [    24,  27000],\n",
       "       [    32,  18000],\n",
       "       [    46,  88000],\n",
       "       [    35,  58000],\n",
       "       [    56,  60000],\n",
       "       [    47,  34000],\n",
       "       [    40,  72000],\n",
       "       [    32, 100000],\n",
       "       [    19,  21000],\n",
       "       [    25,  90000],\n",
       "       [    35,  88000],\n",
       "       [    28,  32000],\n",
       "       [    50,  20000],\n",
       "       [    40,  59000],\n",
       "       [    50,  44000],\n",
       "       [    35,  72000],\n",
       "       [    40, 142000],\n",
       "       [    46,  32000],\n",
       "       [    39,  71000],\n",
       "       [    20,  74000],\n",
       "       [    29,  75000],\n",
       "       [    31,  76000],\n",
       "       [    47,  25000],\n",
       "       [    40,  61000],\n",
       "       [    34, 112000],\n",
       "       [    38,  80000],\n",
       "       [    42,  75000],\n",
       "       [    47,  47000],\n",
       "       [    39,  75000],\n",
       "       [    19,  25000],\n",
       "       [    37,  80000],\n",
       "       [    36,  60000],\n",
       "       [    41,  52000],\n",
       "       [    36, 125000],\n",
       "       [    48,  29000],\n",
       "       [    36, 126000],\n",
       "       [    51, 134000],\n",
       "       [    27,  57000],\n",
       "       [    38,  71000],\n",
       "       [    39,  61000],\n",
       "       [    22,  27000],\n",
       "       [    33,  60000],\n",
       "       [    48,  74000],\n",
       "       [    58,  23000],\n",
       "       [    53,  72000],\n",
       "       [    32, 117000],\n",
       "       [    54,  70000],\n",
       "       [    30,  80000],\n",
       "       [    58,  95000],\n",
       "       [    26,  52000],\n",
       "       [    45,  79000],\n",
       "       [    24,  55000],\n",
       "       [    40,  75000],\n",
       "       [    33,  28000],\n",
       "       [    44, 139000],\n",
       "       [    22,  18000],\n",
       "       [    33,  51000],\n",
       "       [    43, 133000],\n",
       "       [    24,  32000],\n",
       "       [    46,  22000],\n",
       "       [    35,  55000],\n",
       "       [    54, 104000],\n",
       "       [    48, 119000],\n",
       "       [    35,  53000],\n",
       "       [    37, 144000],\n",
       "       [    23,  66000],\n",
       "       [    37, 137000],\n",
       "       [    31,  58000],\n",
       "       [    33,  41000],\n",
       "       [    45,  22000],\n",
       "       [    30,  15000],\n",
       "       [    19,  19000],\n",
       "       [    49,  74000],\n",
       "       [    39, 122000],\n",
       "       [    35,  73000],\n",
       "       [    39,  71000],\n",
       "       [    24,  23000],\n",
       "       [    41,  72000],\n",
       "       [    29,  83000],\n",
       "       [    54,  26000],\n",
       "       [    35,  44000],\n",
       "       [    37,  75000],\n",
       "       [    29,  47000],\n",
       "       [    31,  68000],\n",
       "       [    42,  54000],\n",
       "       [    30, 135000],\n",
       "       [    52, 114000],\n",
       "       [    50,  36000],\n",
       "       [    56, 133000],\n",
       "       [    29,  61000],\n",
       "       [    30,  89000],\n",
       "       [    26,  16000],\n",
       "       [    33,  31000],\n",
       "       [    41,  72000],\n",
       "       [    36,  33000],\n",
       "       [    55, 125000],\n",
       "       [    48, 131000],\n",
       "       [    41,  71000],\n",
       "       [    30,  62000],\n",
       "       [    37,  72000],\n",
       "       [    41,  63000],\n",
       "       [    58,  47000],\n",
       "       [    30, 116000],\n",
       "       [    20,  49000],\n",
       "       [    37,  74000],\n",
       "       [    41,  59000],\n",
       "       [    49,  89000],\n",
       "       [    28,  79000],\n",
       "       [    53,  82000],\n",
       "       [    40,  57000],\n",
       "       [    60,  34000],\n",
       "       [    35, 108000],\n",
       "       [    21,  72000],\n",
       "       [    38,  71000],\n",
       "       [    39, 106000],\n",
       "       [    37,  57000],\n",
       "       [    26,  72000],\n",
       "       [    35,  23000],\n",
       "       [    54, 108000],\n",
       "       [    30,  17000],\n",
       "       [    39, 134000],\n",
       "       [    29,  43000],\n",
       "       [    33,  43000],\n",
       "       [    35,  38000],\n",
       "       [    41,  45000],\n",
       "       [    41,  72000],\n",
       "       [    39, 134000],\n",
       "       [    27, 137000],\n",
       "       [    21,  16000],\n",
       "       [    26,  32000],\n",
       "       [    31,  66000],\n",
       "       [    39,  73000],\n",
       "       [    41,  79000],\n",
       "       [    47,  50000],\n",
       "       [    41,  30000],\n",
       "       [    37,  93000],\n",
       "       [    60,  46000],\n",
       "       [    25,  22000],\n",
       "       [    28,  37000],\n",
       "       [    38,  55000],\n",
       "       [    36,  54000],\n",
       "       [    20,  36000],\n",
       "       [    56, 104000],\n",
       "       [    40,  57000],\n",
       "       [    42, 108000],\n",
       "       [    20,  23000],\n",
       "       [    40,  65000],\n",
       "       [    47,  20000],\n",
       "       [    18,  86000],\n",
       "       [    35,  79000],\n",
       "       [    57,  33000],\n",
       "       [    34,  72000],\n",
       "       [    49,  39000],\n",
       "       [    27,  31000],\n",
       "       [    19,  70000],\n",
       "       [    39,  79000],\n",
       "       [    26,  81000],\n",
       "       [    25,  80000],\n",
       "       [    28,  85000],\n",
       "       [    55,  39000],\n",
       "       [    50,  88000],\n",
       "       [    49,  88000],\n",
       "       [    52, 150000],\n",
       "       [    35,  65000],\n",
       "       [    42,  54000],\n",
       "       [    34,  43000],\n",
       "       [    37,  52000],\n",
       "       [    48,  30000],\n",
       "       [    29,  43000],\n",
       "       [    36,  52000],\n",
       "       [    27,  54000],\n",
       "       [    26, 118000]], dtype=int64)"
      ]
     },
     "execution_count": 6,
     "metadata": {},
     "output_type": "execute_result"
    }
   ],
   "source": [
    "X_train"
   ]
  },
  {
   "cell_type": "markdown",
   "id": "804160d3",
   "metadata": {},
   "source": [
    "Standarisasi data X_train dan X_test"
   ]
  },
  {
   "cell_type": "code",
   "execution_count": 7,
   "id": "9c7aaf3f",
   "metadata": {},
   "outputs": [],
   "source": [
    "from sklearn.preprocessing import StandardScaler\n",
    "sc = StandardScaler()\n",
    "X_train_std = sc.fit_transform(X_train)\n",
    "X_test_std = sc.transform(X_test)"
   ]
  },
  {
   "cell_type": "markdown",
   "id": "538de7ef",
   "metadata": {},
   "source": [
    "fiting decision tree ke data pelatihan"
   ]
  },
  {
   "cell_type": "code",
   "execution_count": 8,
   "id": "3404eeff",
   "metadata": {},
   "outputs": [
    {
     "data": {
      "text/plain": [
       "DecisionTreeClassifier(criterion='entropy', random_state=0)"
      ]
     },
     "execution_count": 8,
     "metadata": {},
     "output_type": "execute_result"
    }
   ],
   "source": [
    "from sklearn.tree import DecisionTreeClassifier\n",
    "classifier = DecisionTreeClassifier(criterion = 'entropy', random_state = 0)\n",
    "classifier.fit(X_train, y_train)"
   ]
  },
  {
   "cell_type": "markdown",
   "id": "61cf4aa4",
   "metadata": {},
   "source": [
    "Prediksi data pelatihan"
   ]
  },
  {
   "cell_type": "code",
   "execution_count": 9,
   "id": "28edfceb",
   "metadata": {},
   "outputs": [],
   "source": [
    "y_pred = classifier.predict(X_test)"
   ]
  },
  {
   "cell_type": "markdown",
   "id": "c2bed9c0",
   "metadata": {},
   "source": [
    "Confusion matrix"
   ]
  },
  {
   "cell_type": "code",
   "execution_count": 10,
   "id": "407bd577",
   "metadata": {},
   "outputs": [],
   "source": [
    "from sklearn.metrics import confusion_matrix\n",
    "cm = confusion_matrix(y_test, y_pred)"
   ]
  },
  {
   "cell_type": "code",
   "execution_count": 29,
   "id": "f99b29ef",
   "metadata": {},
   "outputs": [
    {
     "data": {
      "text/plain": [
       "<AxesSubplot:>"
      ]
     },
     "execution_count": 29,
     "metadata": {},
     "output_type": "execute_result"
    },
    {
     "data": {
      "image/png": "[encoded data removed]",
      "text/plain": [
       "<Figure size 432x288 with 2 Axes>"
      ]
     },
     "metadata": {
      "needs_background": "light"
     },
     "output_type": "display_data"
    }
   ],
   "source": [
    "sns.heatmap(cm, annot=True)"
   ]
  },
  {
   "cell_type": "code",
   "execution_count": 12,
   "id": "b1ce2812",
   "metadata": {},
   "outputs": [
    {
     "data": {
      "text/plain": [
       "array([0, 0, 0, 0, 0, 0, 0, 1, 0, 0, 0, 0, 0, 1, 0, 1, 1, 0, 1, 0, 0, 1,\n",
       "       0, 1, 0, 0, 0, 0, 0, 0, 0, 0, 1, 0, 0, 0, 0, 0, 0, 1, 0, 0, 0, 0,\n",
       "       1, 0, 0, 1, 0, 1, 1, 0, 0, 1, 1, 1, 0, 0, 1, 0, 0, 1, 0, 1, 0, 1,\n",
       "       0, 0, 0, 1, 1, 0, 0, 1, 0, 0, 0, 0, 1, 1, 1, 1, 0, 0, 1, 0, 0, 1,\n",
       "       1, 0, 0, 1, 0, 0, 0, 1, 0, 1, 1, 1], dtype=int64)"
      ]
     },
     "execution_count": 12,
     "metadata": {},
     "output_type": "execute_result"
    }
   ],
   "source": [
    "y_pred"
   ]
  },
  {
   "cell_type": "markdown",
   "id": "5b2eabf4",
   "metadata": {},
   "source": [
    "Melakukan prediksi menggunakan model dengan data baru "
   ]
  },
  {
   "cell_type": "code",
   "execution_count": 13,
   "id": "72d389e3",
   "metadata": {},
   "outputs": [],
   "source": [
    "x_new =[[34,140000]]"
   ]
  },
  {
   "cell_type": "code",
   "execution_count": 14,
   "id": "e3bc3b9e",
   "metadata": {},
   "outputs": [],
   "source": [
    "pred_x = classifier.predict(x_new)"
   ]
  },
  {
   "cell_type": "code",
   "execution_count": 15,
   "id": "b6dcb300",
   "metadata": {},
   "outputs": [
    {
     "data": {
      "text/plain": [
       "array([1], dtype=int64)"
      ]
     },
     "execution_count": 15,
     "metadata": {},
     "output_type": "execute_result"
    }
   ],
   "source": [
    "pred_x"
   ]
  },
  {
   "cell_type": "markdown",
   "id": "e8bff5f9",
   "metadata": {},
   "source": [
    "Visualisasi hasil set data pelatihan"
   ]
  },
  {
   "cell_type": "code",
   "execution_count": 16,
   "id": "c82a1444",
   "metadata": {},
   "outputs": [
    {
     "name": "stderr",
     "output_type": "stream",
     "text": [
      "*c* argument looks like a single numeric RGB or RGBA sequence, which should be avoided as value-mapping will have precedence in case its length matches with *x* & *y*.  Please use the *color* keyword-argument or provide a 2-D array with a single row if you intend to specify the same RGB or RGBA value for all points.\n",
      "*c* argument looks like a single numeric RGB or RGBA sequence, which should be avoided as value-mapping will have precedence in case its length matches with *x* & *y*.  Please use the *color* keyword-argument or provide a 2-D array with a single row if you intend to specify the same RGB or RGBA value for all points.\n"
     ]
    },
    {
     "data": {
      "image/png": "[encoded data removed]",
      "text/plain": [
       "<Figure size 432x288 with 1 Axes>"
      ]
     },
     "metadata": {
      "needs_background": "light"
     },
     "output_type": "display_data"
    }
   ],
   "source": [
    "# Visualising the Training set results\n",
    "from matplotlib.colors import ListedColormap\n",
    "X_set, y_set = X_train_std, y_train\n",
    "X1, X2 = np.meshgrid(np.arange(start = X_set[:, 0].min() - 1, stop = X_set[:, 0].max() + 1, step = 0.01),\n",
    "                     np.arange(start = X_set[:, 1].min() - 1, stop = X_set[:, 1].max() + 1, step = 0.01))\n",
    "plt.contourf(X1, X2, classifier.predict(np.array([X1.ravel(), X2.ravel()]).T).reshape(X1.shape),\n",
    "             alpha = 0.75, cmap = ListedColormap(('red', 'green')))\n",
    "plt.xlim(X1.min(), X1.max())\n",
    "plt.ylim(X2.min(), X2.max())\n",
    "for i, j in enumerate(np.unique(y_set)):\n",
    "    plt.scatter(X_set[y_set == j, 0], X_set[y_set == j, 1],\n",
    "                c = ListedColormap(('red', 'green'))(i), label = j)\n",
    "plt.title('Decision Tree Classification (Training set)')\n",
    "plt.xlabel('Age')\n",
    "plt.ylabel('Estimated Salary')\n",
    "plt.legend()\n",
    "plt.show()"
   ]
  },
  {
   "cell_type": "markdown",
   "id": "86e7fa0c",
   "metadata": {},
   "source": [
    "Visualisasi pengujian pada set data tes"
   ]
  },
  {
   "cell_type": "code",
   "execution_count": 17,
   "id": "2cf35b08",
   "metadata": {},
   "outputs": [
    {
     "name": "stderr",
     "output_type": "stream",
     "text": [
      "*c* argument looks like a single numeric RGB or RGBA sequence, which should be avoided as value-mapping will have precedence in case its length matches with *x* & *y*.  Please use the *color* keyword-argument or provide a 2-D array with a single row if you intend to specify the same RGB or RGBA value for all points.\n",
      "*c* argument looks like a single numeric RGB or RGBA sequence, which should be avoided as value-mapping will have precedence in case its length matches with *x* & *y*.  Please use the *color* keyword-argument or provide a 2-D array with a single row if you intend to specify the same RGB or RGBA value for all points.\n"
     ]
    },
    {
     "data": {
      "image/png": "[encoded data removed]",
      "text/plain": [
       "<Figure size 432x288 with 1 Axes>"
      ]
     },
     "metadata": {
      "needs_background": "light"
     },
     "output_type": "display_data"
    }
   ],
   "source": [
    "# Visualising the Test set results\n",
    "from matplotlib.colors import ListedColormap\n",
    "X_set, y_set = X_test_std, y_test\n",
    "X1, X2 = np.meshgrid(np.arange(start = X_set[:, 0].min() - 1, stop = X_set[:, 0].max() + 1, step = 0.01),\n",
    "                     np.arange(start = X_set[:, 1].min() - 1, stop = X_set[:, 1].max() + 1, step = 0.01))\n",
    "plt.contourf(X1, X2, classifier.predict(np.array([X1.ravel(), X2.ravel()]).T).reshape(X1.shape),\n",
    "             alpha = 0.75, cmap = ListedColormap(('red', 'green')))\n",
    "plt.xlim(X1.min(), X1.max())\n",
    "plt.ylim(X2.min(), X2.max())\n",
    "for i, j in enumerate(np.unique(y_set)):\n",
    "    plt.scatter(X_set[y_set == j, 0], X_set[y_set == j, 1],\n",
    "                c = ListedColormap(('red', 'green'))(i), label = j)\n",
    "plt.title('Decision Tree Classification (Test set)')\n",
    "plt.xlabel('Age')\n",
    "plt.ylabel('Estimated Salary')\n",
    "plt.legend()\n",
    "plt.show()"
   ]
  },
  {
   "cell_type": "code",
   "execution_count": 30,
   "id": "4200328b",
   "metadata": {},
   "outputs": [
    {
     "name": "stdout",
     "output_type": "stream",
     "text": [
      "Akurasi Model: 0.9100\n"
     ]
    }
   ],
   "source": [
    "from sklearn.metrics import accuracy_score\n",
    "\n",
    "print('Akurasi Skor Test-set: {0:0.4f}'. format(accuracy_score(y_test, y_pred)))"
   ]
  },
  {
   "cell_type": "code",
   "execution_count": 31,
   "id": "6f365c92",
   "metadata": {},
   "outputs": [
    {
     "data": {
      "text/plain": [
       "array([0, 1, 0, 1, 1, 1, 0, 0, 0, 0, 0, 0, 1, 1, 1, 0, 1, 0, 0, 1, 0, 1,\n",
       "       0, 1, 0, 0, 1, 1, 1, 1, 0, 1, 0, 1, 0, 0, 1, 0, 0, 1, 0, 0, 0, 0,\n",
       "       0, 1, 1, 1, 1, 0, 0, 0, 1, 0, 1, 0, 1, 0, 0, 1, 0, 0, 0, 1, 0, 0,\n",
       "       0, 1, 1, 0, 0, 1, 0, 1, 1, 1, 0, 0, 1, 1, 0, 0, 1, 1, 0, 1, 0, 0,\n",
       "       1, 1, 0, 1, 1, 1, 0, 0, 0, 0, 0, 1, 0, 0, 1, 1, 1, 1, 1, 0, 1, 1,\n",
       "       0, 1, 0, 0, 0, 0, 0, 0, 0, 1, 1, 0, 0, 1, 0, 0, 1, 0, 0, 0, 1, 0,\n",
       "       1, 1, 0, 1, 0, 0, 0, 0, 1, 0, 0, 0, 1, 1, 0, 0, 0, 0, 1, 0, 1, 0,\n",
       "       0, 0, 1, 0, 0, 0, 0, 1, 1, 1, 0, 0, 0, 0, 0, 0, 1, 1, 1, 1, 1, 0,\n",
       "       1, 0, 0, 0, 0, 0, 1, 0, 0, 0, 0, 0, 0, 1, 1, 0, 1, 0, 1, 0, 0, 1,\n",
       "       0, 0, 0, 1, 0, 0, 0, 0, 0, 1, 0, 0, 0, 0, 0, 1, 0, 1, 1, 0, 0, 0,\n",
       "       0, 0, 0, 1, 1, 0, 0, 0, 0, 1, 0, 0, 0, 0, 1, 0, 1, 0, 1, 0, 0, 0,\n",
       "       1, 0, 0, 0, 1, 0, 1, 0, 0, 0, 0, 0, 1, 1, 0, 0, 0, 0, 0, 1, 0, 1,\n",
       "       1, 0, 0, 0, 0, 0, 1, 0, 1, 0, 0, 1, 0, 0, 1, 0, 1, 0, 0, 0, 0, 0,\n",
       "       0, 1, 1, 1, 1, 0, 0, 0, 0, 1, 0, 0, 0, 0], dtype=int64)"
      ]
     },
     "execution_count": 31,
     "metadata": {},
     "output_type": "execute_result"
    }
   ],
   "source": [
    "y_pred_train = classifier.predict(X_train)\n",
    "\n",
    "y_pred_train"
   ]
  },
  {
   "cell_type": "code",
   "execution_count": 32,
   "id": "0cb4af51",
   "metadata": {},
   "outputs": [
    {
     "name": "stdout",
     "output_type": "stream",
     "text": [
      "Akurasi Skor Training-set : 1.0000\n"
     ]
    }
   ],
   "source": [
    "print('Akurasi Skor Training-set : {0:0.4f}'. format(accuracy_score(y_train, y_pred_train)))"
   ]
  },
  {
   "cell_type": "markdown",
   "id": "ad5edb45",
   "metadata": {},
   "source": [
    "Membandingkan Training set score dan Test set score untuk melihat apakah mengalami overfitting atau underfiting"
   ]
  },
  {
   "cell_type": "code",
   "execution_count": 34,
   "id": "90cb1e30",
   "metadata": {},
   "outputs": [
    {
     "name": "stdout",
     "output_type": "stream",
     "text": [
      "Akurasi Skor Train: 1.0000\n",
      "Akurasi Skor Test: 0.9100\n"
     ]
    }
   ],
   "source": [
    "print('Akurasi Skor Train: {:.4f}'.format(classifier.score(X_train, y_train)))\n",
    "\n",
    "print('Akurasi Skor Test: {:.4f}'.format(classifier.score(X_test, y_test)))"
   ]
  },
  {
   "cell_type": "code",
   "execution_count": 37,
   "id": "9c5a48ab",
   "metadata": {},
   "outputs": [
    {
     "data": {
      "text/plain": [
       "[Text(554.4230769230769, 627.2307692307693, 'X[0] <= 44.5\\nentropy = 0.951\\nsamples = 300\\nvalue = [189, 111]'),\n",
       " Text(293.3076923076923, 577.0523076923077, 'X[1] <= 90500.0\\nentropy = 0.693\\nsamples = 215\\nvalue = [175, 40]'),\n",
       " Text(128.76923076923077, 526.8738461538462, 'X[0] <= 36.5\\nentropy = 0.241\\nsamples = 176\\nvalue = [169, 7]'),\n",
       " Text(100.15384615384616, 476.6953846153847, 'entropy = 0.0\\nsamples = 114\\nvalue = [114, 0]'),\n",
       " Text(157.3846153846154, 476.6953846153847, 'X[1] <= 67500.0\\nentropy = 0.509\\nsamples = 62\\nvalue = [55, 7]'),\n",
       " Text(128.76923076923077, 426.51692307692315, 'entropy = 0.0\\nsamples = 31\\nvalue = [31, 0]'),\n",
       " Text(186.0, 426.51692307692315, 'X[1] <= 83500.0\\nentropy = 0.771\\nsamples = 31\\nvalue = [24, 7]'),\n",
       " Text(157.3846153846154, 376.33846153846156, 'X[1] <= 70500.0\\nentropy = 0.663\\nsamples = 29\\nvalue = [24, 5]'),\n",
       " Text(128.76923076923077, 326.16, 'entropy = 0.0\\nsamples = 1\\nvalue = [0, 1]'),\n",
       " Text(186.0, 326.16, 'X[1] <= 78500.0\\nentropy = 0.592\\nsamples = 28\\nvalue = [24, 4]'),\n",
       " Text(157.3846153846154, 275.9815384615385, 'X[1] <= 72500.0\\nentropy = 0.684\\nsamples = 22\\nvalue = [18, 4]'),\n",
       " Text(57.23076923076923, 225.80307692307696, 'X[0] <= 39.5\\nentropy = 0.391\\nsamples = 13\\nvalue = [12, 1]'),\n",
       " Text(28.615384615384617, 175.62461538461542, 'entropy = 0.0\\nsamples = 6\\nvalue = [6, 0]'),\n",
       " Text(85.84615384615385, 175.62461538461542, 'X[1] <= 71500.0\\nentropy = 0.592\\nsamples = 7\\nvalue = [6, 1]'),\n",
       " Text(57.23076923076923, 125.44615384615383, 'X[0] <= 40.5\\nentropy = 1.0\\nsamples = 2\\nvalue = [1, 1]'),\n",
       " Text(28.615384615384617, 75.2676923076923, 'entropy = 0.0\\nsamples = 1\\nvalue = [0, 1]'),\n",
       " Text(85.84615384615385, 75.2676923076923, 'entropy = 0.0\\nsamples = 1\\nvalue = [1, 0]'),\n",
       " Text(114.46153846153847, 125.44615384615383, 'entropy = 0.0\\nsamples = 5\\nvalue = [5, 0]'),\n",
       " Text(257.53846153846155, 225.80307692307696, 'X[1] <= 73500.0\\nentropy = 0.918\\nsamples = 9\\nvalue = [6, 3]'),\n",
       " Text(200.30769230769232, 175.62461538461542, 'X[0] <= 40.5\\nentropy = 1.0\\nsamples = 2\\nvalue = [1, 1]'),\n",
       " Text(171.6923076923077, 125.44615384615383, 'entropy = 0.0\\nsamples = 1\\nvalue = [1, 0]'),\n",
       " Text(228.92307692307693, 125.44615384615383, 'entropy = 0.0\\nsamples = 1\\nvalue = [0, 1]'),\n",
       " Text(314.7692307692308, 175.62461538461542, 'X[0] <= 39.5\\nentropy = 0.863\\nsamples = 7\\nvalue = [5, 2]'),\n",
       " Text(286.1538461538462, 125.44615384615383, 'X[0] <= 38.0\\nentropy = 1.0\\nsamples = 4\\nvalue = [2, 2]'),\n",
       " Text(257.53846153846155, 75.2676923076923, 'X[1] <= 76500.0\\nentropy = 0.918\\nsamples = 3\\nvalue = [2, 1]'),\n",
       " Text(228.92307692307693, 25.089230769230767, 'entropy = 0.0\\nsamples = 2\\nvalue = [2, 0]'),\n",
       " Text(286.1538461538462, 25.089230769230767, 'entropy = 0.0\\nsamples = 1\\nvalue = [0, 1]'),\n",
       " Text(314.7692307692308, 75.2676923076923, 'entropy = 0.0\\nsamples = 1\\nvalue = [0, 1]'),\n",
       " Text(343.3846153846154, 125.44615384615383, 'entropy = 0.0\\nsamples = 3\\nvalue = [3, 0]'),\n",
       " Text(214.6153846153846, 275.9815384615385, 'entropy = 0.0\\nsamples = 6\\nvalue = [6, 0]'),\n",
       " Text(214.6153846153846, 376.33846153846156, 'entropy = 0.0\\nsamples = 2\\nvalue = [0, 2]'),\n",
       " Text(457.84615384615387, 526.8738461538462, 'X[1] <= 133500.0\\nentropy = 0.619\\nsamples = 39\\nvalue = [6, 33]'),\n",
       " Text(429.2307692307692, 476.6953846153847, 'X[1] <= 107500.0\\nentropy = 0.779\\nsamples = 26\\nvalue = [6, 20]'),\n",
       " Text(400.61538461538464, 426.51692307692315, 'entropy = 0.0\\nsamples = 8\\nvalue = [0, 8]'),\n",
       " Text(457.84615384615387, 426.51692307692315, 'X[1] <= 116500.0\\nentropy = 0.918\\nsamples = 18\\nvalue = [6, 12]'),\n",
       " Text(372.0, 376.33846153846156, 'X[0] <= 33.5\\nentropy = 0.985\\nsamples = 7\\nvalue = [4, 3]'),\n",
       " Text(343.3846153846154, 326.16, 'entropy = 0.0\\nsamples = 2\\nvalue = [2, 0]'),\n",
       " Text(400.61538461538464, 326.16, 'X[1] <= 112500.0\\nentropy = 0.971\\nsamples = 5\\nvalue = [2, 3]'),\n",
       " Text(372.0, 275.9815384615385, 'X[0] <= 34.5\\nentropy = 1.0\\nsamples = 4\\nvalue = [2, 2]'),\n",
       " Text(343.3846153846154, 225.80307692307696, 'entropy = 0.0\\nsamples = 1\\nvalue = [0, 1]'),\n",
       " Text(400.61538461538464, 225.80307692307696, 'X[0] <= 40.0\\nentropy = 0.918\\nsamples = 3\\nvalue = [2, 1]'),\n",
       " Text(372.0, 175.62461538461542, 'entropy = 0.0\\nsamples = 2\\nvalue = [2, 0]'),\n",
       " Text(429.2307692307692, 175.62461538461542, 'entropy = 0.0\\nsamples = 1\\nvalue = [0, 1]'),\n",
       " Text(429.2307692307692, 275.9815384615385, 'entropy = 0.0\\nsamples = 1\\nvalue = [0, 1]'),\n",
       " Text(543.6923076923077, 376.33846153846156, 'X[1] <= 131000.0\\nentropy = 0.684\\nsamples = 11\\nvalue = [2, 9]'),\n",
       " Text(515.0769230769231, 326.16, 'X[0] <= 27.0\\nentropy = 0.469\\nsamples = 10\\nvalue = [1, 9]'),\n",
       " Text(486.4615384615385, 275.9815384615385, 'entropy = 0.0\\nsamples = 1\\nvalue = [1, 0]'),\n",
       " Text(543.6923076923077, 275.9815384615385, 'entropy = 0.0\\nsamples = 9\\nvalue = [0, 9]'),\n",
       " Text(572.3076923076924, 326.16, 'entropy = 0.0\\nsamples = 1\\nvalue = [1, 0]'),\n",
       " Text(486.4615384615385, 476.6953846153847, 'entropy = 0.0\\nsamples = 13\\nvalue = [0, 13]'),\n",
       " Text(815.5384615384615, 577.0523076923077, 'X[1] <= 41500.0\\nentropy = 0.645\\nsamples = 85\\nvalue = [14, 71]'),\n",
       " Text(686.7692307692308, 526.8738461538462, 'X[1] <= 22500.0\\nentropy = 0.211\\nsamples = 30\\nvalue = [1, 29]'),\n",
       " Text(658.1538461538462, 476.6953846153847, 'X[0] <= 46.5\\nentropy = 0.722\\nsamples = 5\\nvalue = [1, 4]'),\n",
       " Text(629.5384615384615, 426.51692307692315, 'X[0] <= 45.5\\nentropy = 1.0\\nsamples = 2\\nvalue = [1, 1]'),\n",
       " Text(600.9230769230769, 376.33846153846156, 'entropy = 0.0\\nsamples = 1\\nvalue = [0, 1]'),\n",
       " Text(658.1538461538462, 376.33846153846156, 'entropy = 0.0\\nsamples = 1\\nvalue = [1, 0]'),\n",
       " Text(686.7692307692308, 426.51692307692315, 'entropy = 0.0\\nsamples = 3\\nvalue = [0, 3]'),\n",
       " Text(715.3846153846155, 476.6953846153847, 'entropy = 0.0\\nsamples = 25\\nvalue = [0, 25]'),\n",
       " Text(944.3076923076924, 526.8738461538462, 'X[0] <= 52.5\\nentropy = 0.789\\nsamples = 55\\nvalue = [13, 42]'),\n",
       " Text(829.8461538461539, 476.6953846153847, 'X[1] <= 85000.0\\nentropy = 0.946\\nsamples = 33\\nvalue = [12, 21]'),\n",
       " Text(744.0, 426.51692307692315, 'X[0] <= 48.5\\nentropy = 0.985\\nsamples = 14\\nvalue = [8, 6]'),\n",
       " Text(715.3846153846155, 376.33846153846156, 'X[0] <= 46.5\\nentropy = 0.994\\nsamples = 11\\nvalue = [5, 6]'),\n",
       " Text(658.1538461538462, 326.16, 'X[1] <= 52000.0\\nentropy = 0.918\\nsamples = 6\\nvalue = [4, 2]'),\n",
       " Text(629.5384615384615, 275.9815384615385, 'entropy = 0.0\\nsamples = 1\\nvalue = [0, 1]'),\n",
       " Text(686.7692307692308, 275.9815384615385, 'X[1] <= 76500.0\\nentropy = 0.722\\nsamples = 5\\nvalue = [4, 1]'),\n",
       " Text(658.1538461538462, 225.80307692307696, 'entropy = 0.0\\nsamples = 2\\nvalue = [2, 0]'),\n",
       " Text(715.3846153846155, 225.80307692307696, 'X[0] <= 45.5\\nentropy = 0.918\\nsamples = 3\\nvalue = [2, 1]'),\n",
       " Text(686.7692307692308, 175.62461538461542, 'entropy = 0.0\\nsamples = 1\\nvalue = [1, 0]'),\n",
       " Text(744.0, 175.62461538461542, 'X[1] <= 80500.0\\nentropy = 1.0\\nsamples = 2\\nvalue = [1, 1]'),\n",
       " Text(715.3846153846155, 125.44615384615383, 'entropy = 0.0\\nsamples = 1\\nvalue = [0, 1]'),\n",
       " Text(772.6153846153846, 125.44615384615383, 'entropy = 0.0\\nsamples = 1\\nvalue = [1, 0]'),\n",
       " Text(772.6153846153846, 326.16, 'X[1] <= 48000.0\\nentropy = 0.722\\nsamples = 5\\nvalue = [1, 4]'),\n",
       " Text(744.0, 275.9815384615385, 'entropy = 0.0\\nsamples = 1\\nvalue = [1, 0]'),\n",
       " Text(801.2307692307693, 275.9815384615385, 'entropy = 0.0\\nsamples = 4\\nvalue = [0, 4]'),\n",
       " Text(772.6153846153846, 376.33846153846156, 'entropy = 0.0\\nsamples = 3\\nvalue = [3, 0]'),\n",
       " Text(915.6923076923077, 426.51692307692315, 'X[1] <= 92500.0\\nentropy = 0.742\\nsamples = 19\\nvalue = [4, 15]'),\n",
       " Text(887.0769230769231, 376.33846153846156, 'entropy = 0.0\\nsamples = 4\\nvalue = [0, 4]'),\n",
       " Text(944.3076923076924, 376.33846153846156, 'X[1] <= 115500.0\\nentropy = 0.837\\nsamples = 15\\nvalue = [4, 11]'),\n",
       " Text(887.0769230769231, 326.16, 'X[0] <= 46.5\\nentropy = 1.0\\nsamples = 4\\nvalue = [2, 2]'),\n",
       " Text(858.4615384615385, 275.9815384615385, 'entropy = 0.0\\nsamples = 1\\nvalue = [1, 0]'),\n",
       " Text(915.6923076923077, 275.9815384615385, 'X[0] <= 50.0\\nentropy = 0.918\\nsamples = 3\\nvalue = [1, 2]'),\n",
       " Text(887.0769230769231, 225.80307692307696, 'entropy = 0.0\\nsamples = 2\\nvalue = [0, 2]'),\n",
       " Text(944.3076923076924, 225.80307692307696, 'entropy = 0.0\\nsamples = 1\\nvalue = [1, 0]'),\n",
       " Text(1001.5384615384615, 326.16, 'X[1] <= 132500.0\\nentropy = 0.684\\nsamples = 11\\nvalue = [2, 9]'),\n",
       " Text(972.923076923077, 275.9815384615385, 'entropy = 0.0\\nsamples = 4\\nvalue = [0, 4]'),\n",
       " Text(1030.1538461538462, 275.9815384615385, 'X[1] <= 143500.0\\nentropy = 0.863\\nsamples = 7\\nvalue = [2, 5]'),\n",
       " Text(1001.5384615384615, 225.80307692307696, 'X[1] <= 139500.0\\nentropy = 0.971\\nsamples = 5\\nvalue = [2, 3]'),\n",
       " Text(972.923076923077, 175.62461538461542, 'X[1] <= 136000.0\\nentropy = 0.811\\nsamples = 4\\nvalue = [1, 3]'),\n",
       " Text(944.3076923076924, 125.44615384615383, 'X[0] <= 49.5\\nentropy = 1.0\\nsamples = 2\\nvalue = [1, 1]'),\n",
       " Text(915.6923076923077, 75.2676923076923, 'entropy = 0.0\\nsamples = 1\\nvalue = [0, 1]'),\n",
       " Text(972.923076923077, 75.2676923076923, 'entropy = 0.0\\nsamples = 1\\nvalue = [1, 0]'),\n",
       " Text(1001.5384615384615, 125.44615384615383, 'entropy = 0.0\\nsamples = 2\\nvalue = [0, 2]'),\n",
       " Text(1030.1538461538462, 175.62461538461542, 'entropy = 0.0\\nsamples = 1\\nvalue = [1, 0]'),\n",
       " Text(1058.7692307692307, 225.80307692307696, 'entropy = 0.0\\nsamples = 2\\nvalue = [0, 2]'),\n",
       " Text(1058.7692307692307, 476.6953846153847, 'X[1] <= 44000.0\\nentropy = 0.267\\nsamples = 22\\nvalue = [1, 21]'),\n",
       " Text(1030.1538461538462, 426.51692307692315, 'X[0] <= 59.5\\nentropy = 1.0\\nsamples = 2\\nvalue = [1, 1]'),\n",
       " Text(1001.5384615384615, 376.33846153846156, 'entropy = 0.0\\nsamples = 1\\nvalue = [1, 0]'),\n",
       " Text(1058.7692307692307, 376.33846153846156, 'entropy = 0.0\\nsamples = 1\\nvalue = [0, 1]'),\n",
       " Text(1087.3846153846155, 426.51692307692315, 'entropy = 0.0\\nsamples = 20\\nvalue = [0, 20]')]"
      ]
     },
     "execution_count": 37,
     "metadata": {},
     "output_type": "execute_result"
    },
    {
     "data": {
      "image/png": "[encoded data removed]",
      "text/plain": [
       "<Figure size 1440x864 with 1 Axes>"
      ]
     },
     "metadata": {
      "needs_background": "light"
     },
     "output_type": "display_data"
    }
   ],
   "source": [
    "plt.figure(figsize=(20,12))\n",
    "\n",
    "from sklearn import tree\n",
    "\n",
    "tree.plot_tree(classifier.fit(X_train, y_train)) "
   ]
  },
  {
   "cell_type": "code",
   "execution_count": 38,
   "id": "a316ff54",
   "metadata": {},
   "outputs": [
    {
     "name": "stdout",
     "output_type": "stream",
     "text": [
      "              precision    recall  f1-score   support\n",
      "\n",
      "           0       0.95      0.91      0.93        68\n",
      "           1       0.83      0.91      0.87        32\n",
      "\n",
      "    accuracy                           0.91       100\n",
      "   macro avg       0.89      0.91      0.90       100\n",
      "weighted avg       0.91      0.91      0.91       100\n",
      "\n"
     ]
    }
   ],
   "source": [
    "from sklearn.metrics import classification_report\n",
    "\n",
    "print(classification_report(y_test, y_pred))"
   ]
  },
  {
   "cell_type": "code",
   "execution_count": null,
   "id": "b2dc58f0",
   "metadata": {},
   "outputs": [],
   "source": []
  }
 ],
 "metadata": {
  "kernelspec": {
   "display_name": "Python 3",
   "language": "python",
   "name": "python3"
  },
  "language_info": {
   "codemirror_mode": {
    "name": "ipython",
    "version": 3
   },
   "file_extension": ".py",
   "mimetype": "text/x-python",
   "name": "python",
   "nbconvert_exporter": "python",
   "pygments_lexer": "ipython3",
   "version": "3.8.8"
  }
 },
 "nbformat": 4,
 "nbformat_minor": 5
}
